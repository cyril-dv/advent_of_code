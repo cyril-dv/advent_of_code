{
 "cells": [
  {
   "cell_type": "markdown",
   "metadata": {},
   "source": [
    "# Day 5 - Advent of Code 2021"
   ]
  },
  {
   "cell_type": "markdown",
   "metadata": {},
   "source": [
    "## Part 1"
   ]
  },
  {
   "cell_type": "code",
   "execution_count": 1,
   "metadata": {},
   "outputs": [],
   "source": [
    "import numpy as np\n",
    "import pandas as pd\n",
    "np.set_printoptions(suppress=True, precision=4)\n",
    "pd.options.display.float_format = '{:,.4f}'.format"
   ]
  },
  {
   "cell_type": "code",
   "execution_count": 2,
   "metadata": {},
   "outputs": [],
   "source": [
    "with open('day_05.txt') as f:\n",
    "    data = f.read()\n",
    "    data_list = data.split('\\n')"
   ]
  },
  {
   "cell_type": "code",
   "execution_count": 3,
   "metadata": {},
   "outputs": [
    {
     "data": {
      "text/html": [
       "<div>\n",
       "<style scoped>\n",
       "    .dataframe tbody tr th:only-of-type {\n",
       "        vertical-align: middle;\n",
       "    }\n",
       "\n",
       "    .dataframe tbody tr th {\n",
       "        vertical-align: top;\n",
       "    }\n",
       "\n",
       "    .dataframe thead th {\n",
       "        text-align: right;\n",
       "    }\n",
       "</style>\n",
       "<table border=\"1\" class=\"dataframe\">\n",
       "  <thead>\n",
       "    <tr style=\"text-align: right;\">\n",
       "      <th></th>\n",
       "      <th>x1</th>\n",
       "      <th>y1</th>\n",
       "      <th>x2</th>\n",
       "      <th>y2</th>\n",
       "    </tr>\n",
       "  </thead>\n",
       "  <tbody>\n",
       "    <tr>\n",
       "      <th>0</th>\n",
       "      <td>527</td>\n",
       "      <td>299</td>\n",
       "      <td>430</td>\n",
       "      <td>299</td>\n",
       "    </tr>\n",
       "    <tr>\n",
       "      <th>1</th>\n",
       "      <td>828</td>\n",
       "      <td>228</td>\n",
       "      <td>81</td>\n",
       "      <td>228</td>\n",
       "    </tr>\n",
       "    <tr>\n",
       "      <th>3</th>\n",
       "      <td>30</td>\n",
       "      <td>390</td>\n",
       "      <td>30</td>\n",
       "      <td>741</td>\n",
       "    </tr>\n",
       "    <tr>\n",
       "      <th>4</th>\n",
       "      <td>196</td>\n",
       "      <td>853</td>\n",
       "      <td>196</td>\n",
       "      <td>599</td>\n",
       "    </tr>\n",
       "    <tr>\n",
       "      <th>5</th>\n",
       "      <td>388</td>\n",
       "      <td>795</td>\n",
       "      <td>388</td>\n",
       "      <td>300</td>\n",
       "    </tr>\n",
       "  </tbody>\n",
       "</table>\n",
       "</div>"
      ],
      "text/plain": [
       "    x1   y1   x2   y2\n",
       "0  527  299  430  299\n",
       "1  828  228   81  228\n",
       "3   30  390   30  741\n",
       "4  196  853  196  599\n",
       "5  388  795  388  300"
      ]
     },
     "execution_count": 3,
     "metadata": {},
     "output_type": "execute_result"
    }
   ],
   "source": [
    "arr = np.array([j.split(',') for j in [i.replace(' -> ', ',') for i in data_list]]).astype(np.int32)\n",
    "df = pd.DataFrame(arr, columns=['x1', 'y1', 'x2', 'y2'])\n",
    "df = df.query('(x1 == x2) or (y1 == y2)')\n",
    "df[0:5]"
   ]
  },
  {
   "cell_type": "code",
   "execution_count": 4,
   "metadata": {},
   "outputs": [],
   "source": [
    "def create_points(row):\n",
    "    if row['x1'] == row['x2']:\n",
    "        ys = np.arange(np.min((row['y1'], row['y2'])), np.max((row['y1'], row['y2'])) + 1).reshape(-1, 1)\n",
    "        pts = ys.shape[0]\n",
    "        return np.c_[[[row['x1']]]*pts, ys]\n",
    "    elif row['y1'] == row['y2']:\n",
    "        xs = np.arange(np.min((row['x1'], row['x2'])), np.max((row['x1'], row['x2'])) + 1).reshape(-1, 1)\n",
    "        pts = xs.shape[0]\n",
    "        return np.c_[xs, [[row['y1']]]*pts]"
   ]
  },
  {
   "cell_type": "code",
   "execution_count": 5,
   "metadata": {},
   "outputs": [
    {
     "data": {
      "text/html": [
       "<div>\n",
       "<style scoped>\n",
       "    .dataframe tbody tr th:only-of-type {\n",
       "        vertical-align: middle;\n",
       "    }\n",
       "\n",
       "    .dataframe tbody tr th {\n",
       "        vertical-align: top;\n",
       "    }\n",
       "\n",
       "    .dataframe thead th {\n",
       "        text-align: right;\n",
       "    }\n",
       "</style>\n",
       "<table border=\"1\" class=\"dataframe\">\n",
       "  <thead>\n",
       "    <tr style=\"text-align: right;\">\n",
       "      <th></th>\n",
       "      <th>x</th>\n",
       "      <th>y</th>\n",
       "      <th>cnt</th>\n",
       "    </tr>\n",
       "  </thead>\n",
       "  <tbody>\n",
       "    <tr>\n",
       "      <th>0</th>\n",
       "      <td>430</td>\n",
       "      <td>299</td>\n",
       "      <td>1</td>\n",
       "    </tr>\n",
       "    <tr>\n",
       "      <th>1</th>\n",
       "      <td>431</td>\n",
       "      <td>299</td>\n",
       "      <td>1</td>\n",
       "    </tr>\n",
       "    <tr>\n",
       "      <th>2</th>\n",
       "      <td>432</td>\n",
       "      <td>299</td>\n",
       "      <td>1</td>\n",
       "    </tr>\n",
       "    <tr>\n",
       "      <th>3</th>\n",
       "      <td>433</td>\n",
       "      <td>299</td>\n",
       "      <td>1</td>\n",
       "    </tr>\n",
       "    <tr>\n",
       "      <th>4</th>\n",
       "      <td>434</td>\n",
       "      <td>299</td>\n",
       "      <td>1</td>\n",
       "    </tr>\n",
       "  </tbody>\n",
       "</table>\n",
       "</div>"
      ],
      "text/plain": [
       "     x    y  cnt\n",
       "0  430  299    1\n",
       "1  431  299    1\n",
       "2  432  299    1\n",
       "3  433  299    1\n",
       "4  434  299    1"
      ]
     },
     "execution_count": 5,
     "metadata": {},
     "output_type": "execute_result"
    }
   ],
   "source": [
    "points = df.apply(create_points, axis=1).explode()\n",
    "points = pd.DataFrame(points.to_list(), columns=['x', 'y'])\n",
    "points['cnt'] = 1\n",
    "points[0:5]"
   ]
  },
  {
   "cell_type": "code",
   "execution_count": 6,
   "metadata": {},
   "outputs": [
    {
     "data": {
      "text/plain": [
       "8111"
      ]
     },
     "execution_count": 6,
     "metadata": {},
     "output_type": "execute_result"
    }
   ],
   "source": [
    "points.groupby(by=['x', 'y'], as_index=False).sum().query('cnt > 1').shape[0]"
   ]
  },
  {
   "cell_type": "markdown",
   "metadata": {},
   "source": [
    "## Part 2"
   ]
  },
  {
   "cell_type": "code",
   "execution_count": 7,
   "metadata": {},
   "outputs": [],
   "source": [
    "df = pd.DataFrame(arr, columns=['x1', 'y1', 'x2', 'y2'])"
   ]
  },
  {
   "cell_type": "code",
   "execution_count": 8,
   "metadata": {},
   "outputs": [],
   "source": [
    "def create_points(row):\n",
    "    mat_x = mat_y = mat_d = np.array([[np.NaN, np.NaN]])\n",
    "\n",
    "    if row['x1'] == row['x2']:\n",
    "        ys = np.arange(np.min((row['y1'], row['y2'])), np.max((row['y1'], row['y2'])) + 1).reshape(-1, 1)\n",
    "        pts = ys.shape[0]\n",
    "        mat_x = np.c_[[[row['x1']]]*pts, ys]\n",
    "    elif row['y1'] == row['y2']:\n",
    "        xs = np.arange(np.min((row['x1'], row['x2'])), np.max((row['x1'], row['x2'])) + 1).reshape(-1, 1)\n",
    "        pts = xs.shape[0]\n",
    "        mat_y = np.c_[xs, [[row['y1']]]*pts]\n",
    "    elif np.abs(row['x2'] - row['x1']) == np.abs(row['y2'] - row['y1']):\n",
    "        if row['x2'] > row['x1']:\n",
    "            xs = np.arange(row['x1'], row['x2'] + 1).reshape(-1, 1)\n",
    "        else:\n",
    "            xs = np.arange(row['x1'], row['x2'] - 1, -1).reshape(-1, 1)\n",
    "        if row['y2'] > row['y1']:\n",
    "            ys = np.arange(row['y1'], row['y2'] + 1).reshape(-1, 1)\n",
    "        else:\n",
    "            ys = np.arange(row['y1'], row['y2'] - 1, -1).reshape(-1, 1)\n",
    "        mat_d = np.c_[xs, ys]\n",
    "\n",
    "    return np.r_[mat_x, mat_y, mat_d]"
   ]
  },
  {
   "cell_type": "code",
   "execution_count": 9,
   "metadata": {},
   "outputs": [
    {
     "data": {
      "text/html": [
       "<div>\n",
       "<style scoped>\n",
       "    .dataframe tbody tr th:only-of-type {\n",
       "        vertical-align: middle;\n",
       "    }\n",
       "\n",
       "    .dataframe tbody tr th {\n",
       "        vertical-align: top;\n",
       "    }\n",
       "\n",
       "    .dataframe thead th {\n",
       "        text-align: right;\n",
       "    }\n",
       "</style>\n",
       "<table border=\"1\" class=\"dataframe\">\n",
       "  <thead>\n",
       "    <tr style=\"text-align: right;\">\n",
       "      <th></th>\n",
       "      <th>x</th>\n",
       "      <th>y</th>\n",
       "      <th>cnt</th>\n",
       "    </tr>\n",
       "  </thead>\n",
       "  <tbody>\n",
       "    <tr>\n",
       "      <th>1</th>\n",
       "      <td>430.0000</td>\n",
       "      <td>299.0000</td>\n",
       "      <td>1</td>\n",
       "    </tr>\n",
       "    <tr>\n",
       "      <th>2</th>\n",
       "      <td>431.0000</td>\n",
       "      <td>299.0000</td>\n",
       "      <td>1</td>\n",
       "    </tr>\n",
       "    <tr>\n",
       "      <th>3</th>\n",
       "      <td>432.0000</td>\n",
       "      <td>299.0000</td>\n",
       "      <td>1</td>\n",
       "    </tr>\n",
       "    <tr>\n",
       "      <th>4</th>\n",
       "      <td>433.0000</td>\n",
       "      <td>299.0000</td>\n",
       "      <td>1</td>\n",
       "    </tr>\n",
       "    <tr>\n",
       "      <th>5</th>\n",
       "      <td>434.0000</td>\n",
       "      <td>299.0000</td>\n",
       "      <td>1</td>\n",
       "    </tr>\n",
       "  </tbody>\n",
       "</table>\n",
       "</div>"
      ],
      "text/plain": [
       "         x        y  cnt\n",
       "1 430.0000 299.0000    1\n",
       "2 431.0000 299.0000    1\n",
       "3 432.0000 299.0000    1\n",
       "4 433.0000 299.0000    1\n",
       "5 434.0000 299.0000    1"
      ]
     },
     "execution_count": 9,
     "metadata": {},
     "output_type": "execute_result"
    }
   ],
   "source": [
    "points = df.apply(create_points, axis=1).explode()\n",
    "points = pd.DataFrame(points.to_list(), columns=['x', 'y']).dropna()\n",
    "points['cnt'] = 1\n",
    "points[0:5]"
   ]
  },
  {
   "cell_type": "code",
   "execution_count": 10,
   "metadata": {},
   "outputs": [
    {
     "data": {
      "text/plain": [
       "22088"
      ]
     },
     "execution_count": 10,
     "metadata": {},
     "output_type": "execute_result"
    }
   ],
   "source": [
    "points.groupby(by=['x', 'y'], as_index=False).sum().query('cnt > 1').shape[0]"
   ]
  }
 ],
 "metadata": {
  "kernelspec": {
   "display_name": "base",
   "language": "python",
   "name": "python3"
  },
  "language_info": {
   "codemirror_mode": {
    "name": "ipython",
    "version": 3
   },
   "file_extension": ".py",
   "mimetype": "text/x-python",
   "name": "python",
   "nbconvert_exporter": "python",
   "pygments_lexer": "ipython3",
   "version": "3.11.7"
  },
  "orig_nbformat": 4,
  "vscode": {
   "interpreter": {
    "hash": "71aab76894ccd7da800143af8a6fdd606722031a39bb4bd53e17bf882d95cd66"
   }
  }
 },
 "nbformat": 4,
 "nbformat_minor": 2
}
