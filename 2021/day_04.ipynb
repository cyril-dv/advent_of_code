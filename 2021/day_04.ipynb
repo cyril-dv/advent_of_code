{
 "cells": [
  {
   "cell_type": "markdown",
   "metadata": {},
   "source": [
    "# Day 4 - Advent of Code 2021"
   ]
  },
  {
   "cell_type": "markdown",
   "metadata": {},
   "source": [
    "## Part 1"
   ]
  },
  {
   "cell_type": "code",
   "execution_count": 1,
   "metadata": {},
   "outputs": [],
   "source": [
    "import numpy as np\n",
    "import pandas as pd\n",
    "np.set_printoptions(suppress=True, precision=4)\n",
    "pd.options.display.float_format = '{:,.4f}'.format"
   ]
  },
  {
   "cell_type": "code",
   "execution_count": 2,
   "metadata": {},
   "outputs": [],
   "source": [
    "with open('day_04.txt') as f:\n",
    "    data = f.read()\n",
    "    data_list = data.split('\\n')"
   ]
  },
  {
   "cell_type": "code",
   "execution_count": 3,
   "metadata": {},
   "outputs": [
    {
     "data": {
      "text/plain": [
       "array([94, 21, 58, 16,  4,  1, 44,  6, 17, 48], dtype=int8)"
      ]
     },
     "execution_count": 3,
     "metadata": {},
     "output_type": "execute_result"
    }
   ],
   "source": [
    "nums = np.array(data_list[0].split(',')).astype(np.int8)\n",
    "nums[0:10]"
   ]
  },
  {
   "cell_type": "code",
   "execution_count": 4,
   "metadata": {},
   "outputs": [
    {
     "data": {
      "text/plain": [
       "array([[[49, 74, 83, 34, 40],\n",
       "        [87, 16, 57, 75,  3],\n",
       "        [68, 94, 77, 78, 89],\n",
       "        [56, 38, 29, 26, 60],\n",
       "        [41, 42, 45, 19,  1]],\n",
       "\n",
       "       [[42, 35, 10, 20,  9],\n",
       "        [49, 39, 40, 41, 73],\n",
       "        [ 3, 48, 91, 81, 88],\n",
       "        [59, 55, 82, 58, 71],\n",
       "        [61, 51, 17, 26, 72]]], dtype=int8)"
      ]
     },
     "execution_count": 4,
     "metadata": {},
     "output_type": "execute_result"
    }
   ],
   "source": [
    "arr = np.array([[j.split() for j in i.split('\\n')] for i in data_list[2:] if len(i) > 0]).astype(np.int8).reshape(-1, 5, 5)\n",
    "arr[0:2]"
   ]
  },
  {
   "cell_type": "code",
   "execution_count": 5,
   "metadata": {},
   "outputs": [],
   "source": [
    "win_ticket = np.empty((5, 5))\n",
    "win_num = None\n",
    "\n",
    "for n in nums:\n",
    "    for mat in arr[:]:\n",
    "        mat[mat == n] = 100\n",
    "        if np.any(np.sum(mat, axis=0) == 500) or np.any(np.sum(mat, axis=1) == 500):\n",
    "            win_ticket = mat\n",
    "            win_num = n\n",
    "            break\n",
    "    if win_num:\n",
    "        break"
   ]
  },
  {
   "cell_type": "code",
   "execution_count": 6,
   "metadata": {},
   "outputs": [
    {
     "data": {
      "text/plain": [
       "4662"
      ]
     },
     "execution_count": 6,
     "metadata": {},
     "output_type": "execute_result"
    }
   ],
   "source": [
    "win_ticket[win_ticket == 100] = 0\n",
    "np.sum(win_ticket) * win_num"
   ]
  },
  {
   "cell_type": "markdown",
   "metadata": {},
   "source": [
    "## Part 2"
   ]
  },
  {
   "cell_type": "code",
   "execution_count": 7,
   "metadata": {},
   "outputs": [],
   "source": [
    "arr = np.array([[j.split() for j in i.split('\\n')] for i in data_list[2:] if len(i) > 0]).astype(np.int8).reshape(-1, 5, 5)\n",
    "\n",
    "tickets = np.zeros(arr.shape[0])\n",
    "last_ticket = []\n",
    "last_num = None"
   ]
  },
  {
   "cell_type": "code",
   "execution_count": 8,
   "metadata": {},
   "outputs": [],
   "source": [
    "for n in nums:\n",
    "    for i, mat in enumerate(arr[:]):\n",
    "        mat[mat == n] = 100\n",
    "        if np.any(np.sum(mat, axis=0) == 500) or np.any(np.sum(mat, axis=1) == 500):\n",
    "            tickets[i] = 1\n",
    "        if np.sum(tickets) == 100:\n",
    "            last_num = n\n",
    "            last_ticket = mat\n",
    "            break\n",
    "    if last_num:\n",
    "        break"
   ]
  },
  {
   "cell_type": "code",
   "execution_count": 9,
   "metadata": {},
   "outputs": [
    {
     "data": {
      "text/plain": [
       "12080"
      ]
     },
     "execution_count": 9,
     "metadata": {},
     "output_type": "execute_result"
    }
   ],
   "source": [
    "last_ticket[last_ticket == 100] = 0\n",
    "np.sum(last_ticket) * last_num"
   ]
  }
 ],
 "metadata": {
  "kernelspec": {
   "display_name": "base",
   "language": "python",
   "name": "python3"
  },
  "language_info": {
   "codemirror_mode": {
    "name": "ipython",
    "version": 3
   },
   "file_extension": ".py",
   "mimetype": "text/x-python",
   "name": "python",
   "nbconvert_exporter": "python",
   "pygments_lexer": "ipython3",
   "version": "3.11.7"
  },
  "orig_nbformat": 4,
  "vscode": {
   "interpreter": {
    "hash": "71aab76894ccd7da800143af8a6fdd606722031a39bb4bd53e17bf882d95cd66"
   }
  }
 },
 "nbformat": 4,
 "nbformat_minor": 2
}
