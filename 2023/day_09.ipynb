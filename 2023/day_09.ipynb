{
 "cells": [
  {
   "cell_type": "markdown",
   "metadata": {},
   "source": [
    "# Day 9 - Advent of Code 2023"
   ]
  },
  {
   "cell_type": "markdown",
   "metadata": {},
   "source": [
    "## Part 1"
   ]
  },
  {
   "cell_type": "code",
   "execution_count": 1,
   "metadata": {},
   "outputs": [],
   "source": [
    "import numpy as np\n",
    "import pandas as pd\n",
    "np.set_printoptions(suppress=True, precision=4)\n",
    "pd.options.display.float_format = '{:,.4f}'.format"
   ]
  },
  {
   "cell_type": "code",
   "execution_count": 2,
   "metadata": {},
   "outputs": [],
   "source": [
    "with open('day_09.txt') as f:\n",
    "    data = f.read()\n",
    "    data_list = data.split('\\n')"
   ]
  },
  {
   "cell_type": "code",
   "execution_count": 3,
   "metadata": {},
   "outputs": [
    {
     "name": "stdout",
     "output_type": "stream",
     "text": [
      "[13, 33, 54, 85, 159, 343, 748, 1539, 2945, 5269, 8898, 14313, 22099, 32955, 47704, 67303, 92853, 125609, 166990, 218589, 282183]\n"
     ]
    }
   ],
   "source": [
    "readings = [[(int(j)) for j in (i.split())] for i in data_list]\n",
    "print(readings[0])"
   ]
  },
  {
   "cell_type": "code",
   "execution_count": 4,
   "metadata": {},
   "outputs": [],
   "source": [
    "r_sums = []\n",
    "\n",
    "for r in readings:\n",
    "    r = np.array(r)\n",
    "    r_next = []\n",
    "    r_next.append(r[-1])\n",
    "    \n",
    "    while np.sum(r) != 0:\n",
    "        r = np.diff(r)\n",
    "        r_next.append(r[-1])\n",
    "    r_sums.append(np.sum(r_next))"
   ]
  },
  {
   "cell_type": "code",
   "execution_count": 5,
   "metadata": {},
   "outputs": [
    {
     "data": {
      "text/plain": [
       "2098530125"
      ]
     },
     "execution_count": 5,
     "metadata": {},
     "output_type": "execute_result"
    }
   ],
   "source": [
    "np.sum(r_sums)"
   ]
  },
  {
   "cell_type": "markdown",
   "metadata": {},
   "source": [
    "## Part 2"
   ]
  },
  {
   "cell_type": "code",
   "execution_count": 6,
   "metadata": {},
   "outputs": [],
   "source": [
    "r_sums = []\n",
    "\n",
    "for r in readings:\n",
    "    r = np.array(r)\n",
    "    r_next = []\n",
    "    r_next.append(r[0])\n",
    "    \n",
    "    while np.sum(r) != 0:\n",
    "        r = np.diff(r)\n",
    "        r_next.append(r[0])\n",
    "    r_next = np.array(r_next)\n",
    "    r_sums.append(np.sum(r_next[0::2]) - np.sum(r_next[1::2]))"
   ]
  },
  {
   "cell_type": "code",
   "execution_count": 7,
   "metadata": {},
   "outputs": [
    {
     "data": {
      "text/plain": [
       "1016"
      ]
     },
     "execution_count": 7,
     "metadata": {},
     "output_type": "execute_result"
    }
   ],
   "source": [
    "np.sum(r_sums)"
   ]
  }
 ],
 "metadata": {
  "kernelspec": {
   "display_name": "base",
   "language": "python",
   "name": "python3"
  },
  "language_info": {
   "codemirror_mode": {
    "name": "ipython",
    "version": 3
   },
   "file_extension": ".py",
   "mimetype": "text/x-python",
   "name": "python",
   "nbconvert_exporter": "python",
   "pygments_lexer": "ipython3",
   "version": "3.11.7"
  },
  "orig_nbformat": 4,
  "vscode": {
   "interpreter": {
    "hash": "71aab76894ccd7da800143af8a6fdd606722031a39bb4bd53e17bf882d95cd66"
   }
  }
 },
 "nbformat": 4,
 "nbformat_minor": 2
}
