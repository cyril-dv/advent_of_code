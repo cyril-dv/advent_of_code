{
 "cells": [
  {
   "cell_type": "markdown",
   "metadata": {},
   "source": [
    "# Day 7 - Advent of Code 2023"
   ]
  },
  {
   "cell_type": "markdown",
   "metadata": {},
   "source": [
    "## Part 1"
   ]
  },
  {
   "cell_type": "code",
   "execution_count": 1,
   "metadata": {},
   "outputs": [],
   "source": [
    "import numpy as np\n",
    "import pandas as pd\n",
    "np.set_printoptions(suppress=True, precision=4)\n",
    "pd.options.display.float_format = '{:,.4f}'.format\n",
    "\n",
    "import re\n",
    "from collections import Counter"
   ]
  },
  {
   "cell_type": "code",
   "execution_count": 2,
   "metadata": {},
   "outputs": [],
   "source": [
    "def hand_rank(t):\n",
    "    # Five of a kind (7), Four of a kind (6), Full house (5), Three of a kind (4), Two pair (3), One pair (2), High card (1)\n",
    "    card_counter = Counter(t)\n",
    "    if card_counter.most_common()[0][1] == 5:\n",
    "        return 7\n",
    "    elif card_counter.most_common()[0][1] == 4:\n",
    "        return 6\n",
    "    elif card_counter.most_common()[0][1] == 3 and card_counter.most_common()[1][1] == 2:\n",
    "        return 5\n",
    "    elif card_counter.most_common()[0][1] == 3:\n",
    "        return 4\n",
    "    elif card_counter.most_common()[0][1] == 2 and card_counter.most_common()[1][1] == 2:\n",
    "        return 3\n",
    "    elif card_counter.most_common()[0][1] == 2:\n",
    "        return 2\n",
    "    else:\n",
    "        return 1"
   ]
  },
  {
   "cell_type": "code",
   "execution_count": 3,
   "metadata": {},
   "outputs": [],
   "source": [
    "def card_ranks(t):\n",
    "    cards_dict = {'A': 14, 'K': 13, 'Q': 12, 'J': 11, 'T': 10, '9': 9, \n",
    "                  '8':  8, '7':  7, '6':  6, '5':  5, '4':  4, '3': 3, '2': 2}\n",
    "    res = []\n",
    "    for card in t:\n",
    "        res.append(cards_dict[card])\n",
    "    res = pd.Series(res, index=['c1_rnk', 'c2_rnk', 'c3_rnk', 'c4_rnk', 'c5_rnk'])\n",
    "    return res"
   ]
  },
  {
   "cell_type": "code",
   "execution_count": 4,
   "metadata": {},
   "outputs": [
    {
     "data": {
      "text/html": [
       "<div>\n",
       "<style scoped>\n",
       "    .dataframe tbody tr th:only-of-type {\n",
       "        vertical-align: middle;\n",
       "    }\n",
       "\n",
       "    .dataframe tbody tr th {\n",
       "        vertical-align: top;\n",
       "    }\n",
       "\n",
       "    .dataframe thead th {\n",
       "        text-align: right;\n",
       "    }\n",
       "</style>\n",
       "<table border=\"1\" class=\"dataframe\">\n",
       "  <thead>\n",
       "    <tr style=\"text-align: right;\">\n",
       "      <th></th>\n",
       "      <th>hands</th>\n",
       "      <th>bids</th>\n",
       "    </tr>\n",
       "  </thead>\n",
       "  <tbody>\n",
       "    <tr>\n",
       "      <th>0</th>\n",
       "      <td>32T3J</td>\n",
       "      <td>893</td>\n",
       "    </tr>\n",
       "    <tr>\n",
       "      <th>1</th>\n",
       "      <td>A9942</td>\n",
       "      <td>54</td>\n",
       "    </tr>\n",
       "    <tr>\n",
       "      <th>2</th>\n",
       "      <td>J57Q8</td>\n",
       "      <td>571</td>\n",
       "    </tr>\n",
       "    <tr>\n",
       "      <th>3</th>\n",
       "      <td>779TK</td>\n",
       "      <td>931</td>\n",
       "    </tr>\n",
       "    <tr>\n",
       "      <th>4</th>\n",
       "      <td>69696</td>\n",
       "      <td>457</td>\n",
       "    </tr>\n",
       "  </tbody>\n",
       "</table>\n",
       "</div>"
      ],
      "text/plain": [
       "   hands  bids\n",
       "0  32T3J   893\n",
       "1  A9942    54\n",
       "2  J57Q8   571\n",
       "3  779TK   931\n",
       "4  69696   457"
      ]
     },
     "execution_count": 4,
     "metadata": {},
     "output_type": "execute_result"
    }
   ],
   "source": [
    "data = pd.read_csv('day_07.txt', header=None, sep=' ', names=['hands', 'bids'])\n",
    "data[0:5]"
   ]
  },
  {
   "cell_type": "code",
   "execution_count": 5,
   "metadata": {},
   "outputs": [
    {
     "data": {
      "text/html": [
       "<div>\n",
       "<style scoped>\n",
       "    .dataframe tbody tr th:only-of-type {\n",
       "        vertical-align: middle;\n",
       "    }\n",
       "\n",
       "    .dataframe tbody tr th {\n",
       "        vertical-align: top;\n",
       "    }\n",
       "\n",
       "    .dataframe thead th {\n",
       "        text-align: right;\n",
       "    }\n",
       "</style>\n",
       "<table border=\"1\" class=\"dataframe\">\n",
       "  <thead>\n",
       "    <tr style=\"text-align: right;\">\n",
       "      <th></th>\n",
       "      <th>hands</th>\n",
       "      <th>bids</th>\n",
       "      <th>hand_rnk</th>\n",
       "      <th>c1_rnk</th>\n",
       "      <th>c2_rnk</th>\n",
       "      <th>c3_rnk</th>\n",
       "      <th>c4_rnk</th>\n",
       "      <th>c5_rnk</th>\n",
       "      <th>total_rnk</th>\n",
       "    </tr>\n",
       "  </thead>\n",
       "  <tbody>\n",
       "    <tr>\n",
       "      <th>859</th>\n",
       "      <td>JJJJJ</td>\n",
       "      <td>503</td>\n",
       "      <td>7</td>\n",
       "      <td>11</td>\n",
       "      <td>11</td>\n",
       "      <td>11</td>\n",
       "      <td>11</td>\n",
       "      <td>11</td>\n",
       "      <td>1000</td>\n",
       "    </tr>\n",
       "    <tr>\n",
       "      <th>546</th>\n",
       "      <td>AAAJA</td>\n",
       "      <td>158</td>\n",
       "      <td>6</td>\n",
       "      <td>14</td>\n",
       "      <td>14</td>\n",
       "      <td>14</td>\n",
       "      <td>11</td>\n",
       "      <td>14</td>\n",
       "      <td>999</td>\n",
       "    </tr>\n",
       "    <tr>\n",
       "      <th>551</th>\n",
       "      <td>AA2AA</td>\n",
       "      <td>586</td>\n",
       "      <td>6</td>\n",
       "      <td>14</td>\n",
       "      <td>14</td>\n",
       "      <td>2</td>\n",
       "      <td>14</td>\n",
       "      <td>14</td>\n",
       "      <td>998</td>\n",
       "    </tr>\n",
       "    <tr>\n",
       "      <th>18</th>\n",
       "      <td>ATAAA</td>\n",
       "      <td>352</td>\n",
       "      <td>6</td>\n",
       "      <td>14</td>\n",
       "      <td>10</td>\n",
       "      <td>14</td>\n",
       "      <td>14</td>\n",
       "      <td>14</td>\n",
       "      <td>997</td>\n",
       "    </tr>\n",
       "    <tr>\n",
       "      <th>186</th>\n",
       "      <td>A9999</td>\n",
       "      <td>160</td>\n",
       "      <td>6</td>\n",
       "      <td>14</td>\n",
       "      <td>9</td>\n",
       "      <td>9</td>\n",
       "      <td>9</td>\n",
       "      <td>9</td>\n",
       "      <td>996</td>\n",
       "    </tr>\n",
       "  </tbody>\n",
       "</table>\n",
       "</div>"
      ],
      "text/plain": [
       "     hands  bids  hand_rnk  c1_rnk  c2_rnk  c3_rnk  c4_rnk  c5_rnk  total_rnk\n",
       "859  JJJJJ   503         7      11      11      11      11      11       1000\n",
       "546  AAAJA   158         6      14      14      14      11      14        999\n",
       "551  AA2AA   586         6      14      14       2      14      14        998\n",
       "18   ATAAA   352         6      14      10      14      14      14        997\n",
       "186  A9999   160         6      14       9       9       9       9        996"
      ]
     },
     "execution_count": 5,
     "metadata": {},
     "output_type": "execute_result"
    }
   ],
   "source": [
    "data['hand_rnk'] = data['hands'].apply(hand_rank)\n",
    "data = pd.concat([data, data['hands'].apply(card_ranks)], axis=1)\n",
    "data = data.sort_values(\n",
    "    by=['hand_rnk', 'c1_rnk', 'c2_rnk', 'c3_rnk', 'c4_rnk', 'c5_rnk'],\n",
    "    ascending=[False]*6)\n",
    "data['total_rnk'] = range(data.shape[0], 0, -1)\n",
    "data[0:5]"
   ]
  },
  {
   "cell_type": "code",
   "execution_count": 6,
   "metadata": {},
   "outputs": [
    {
     "data": {
      "text/plain": [
       "251545216"
      ]
     },
     "execution_count": 6,
     "metadata": {},
     "output_type": "execute_result"
    }
   ],
   "source": [
    "np.sum(data['bids'] * data['total_rnk'])"
   ]
  },
  {
   "cell_type": "markdown",
   "metadata": {},
   "source": [
    "## Part 2"
   ]
  },
  {
   "cell_type": "code",
   "execution_count": 7,
   "metadata": {},
   "outputs": [],
   "source": [
    "data = pd.read_csv('day_07.txt', header=None, sep=' ', names=['hands', 'bids'])"
   ]
  },
  {
   "cell_type": "code",
   "execution_count": 8,
   "metadata": {},
   "outputs": [],
   "source": [
    "def hand_rank(t):\n",
    "    # Five of a kind (7), Four of a kind (6), Full house (5), Three of a kind (4), Two pair (3), One pair (2), High card (1)\n",
    "    jokers = len(re.findall('J', t))\n",
    "    \n",
    "    card_counter = Counter(t)\n",
    "    if card_counter.most_common()[0][1] == 5:\n",
    "        return 7\n",
    "    elif card_counter.most_common()[0][1] == 4:\n",
    "        if jokers:\n",
    "            return 7\n",
    "        else:\n",
    "            return 6\n",
    "    elif card_counter.most_common()[0][1] == 3 and card_counter.most_common()[1][1] == 2:\n",
    "        if jokers:\n",
    "            return 7\n",
    "        else:\n",
    "            return 5\n",
    "    elif card_counter.most_common()[0][1] == 3:\n",
    "        if jokers:\n",
    "            return 6\n",
    "        else:\n",
    "            return 4\n",
    "    elif card_counter.most_common()[0][1] == 2 and card_counter.most_common()[1][1] == 2:\n",
    "        if jokers == 2:\n",
    "            return 6\n",
    "        elif jokers == 1:\n",
    "            return 5\n",
    "        else:\n",
    "            return 3\n",
    "    elif card_counter.most_common()[0][1] == 2:\n",
    "        if jokers:\n",
    "            return 4\n",
    "        else:\n",
    "            return 2\n",
    "    else:\n",
    "        if jokers:\n",
    "            return 2\n",
    "        else:\n",
    "            return 1"
   ]
  },
  {
   "cell_type": "code",
   "execution_count": 9,
   "metadata": {},
   "outputs": [],
   "source": [
    "def card_ranks(t):\n",
    "    cards_dict = {'A': 14, 'K': 13, 'Q': 12, 'J': 1, 'T': 10, '9': 9, \n",
    "                  '8':  8, '7':  7, '6':  6, '5': 5, '4':  4, '3': 3, '2': 2}\n",
    "    res = []\n",
    "    for card in t:\n",
    "        res.append(cards_dict[card])\n",
    "    res = pd.Series(res, index=['c1_rnk', 'c2_rnk', 'c3_rnk', 'c4_rnk', 'c5_rnk'])\n",
    "    return res"
   ]
  },
  {
   "cell_type": "code",
   "execution_count": 10,
   "metadata": {},
   "outputs": [
    {
     "data": {
      "text/html": [
       "<div>\n",
       "<style scoped>\n",
       "    .dataframe tbody tr th:only-of-type {\n",
       "        vertical-align: middle;\n",
       "    }\n",
       "\n",
       "    .dataframe tbody tr th {\n",
       "        vertical-align: top;\n",
       "    }\n",
       "\n",
       "    .dataframe thead th {\n",
       "        text-align: right;\n",
       "    }\n",
       "</style>\n",
       "<table border=\"1\" class=\"dataframe\">\n",
       "  <thead>\n",
       "    <tr style=\"text-align: right;\">\n",
       "      <th></th>\n",
       "      <th>hands</th>\n",
       "      <th>bids</th>\n",
       "      <th>hand_rnk</th>\n",
       "      <th>c1_rnk</th>\n",
       "      <th>c2_rnk</th>\n",
       "      <th>c3_rnk</th>\n",
       "      <th>c4_rnk</th>\n",
       "      <th>c5_rnk</th>\n",
       "      <th>total_rnk</th>\n",
       "    </tr>\n",
       "  </thead>\n",
       "  <tbody>\n",
       "    <tr>\n",
       "      <th>546</th>\n",
       "      <td>AAAJA</td>\n",
       "      <td>158</td>\n",
       "      <td>7</td>\n",
       "      <td>14</td>\n",
       "      <td>14</td>\n",
       "      <td>14</td>\n",
       "      <td>1</td>\n",
       "      <td>14</td>\n",
       "      <td>1000</td>\n",
       "    </tr>\n",
       "    <tr>\n",
       "      <th>715</th>\n",
       "      <td>KKJJJ</td>\n",
       "      <td>961</td>\n",
       "      <td>7</td>\n",
       "      <td>13</td>\n",
       "      <td>13</td>\n",
       "      <td>1</td>\n",
       "      <td>1</td>\n",
       "      <td>1</td>\n",
       "      <td>999</td>\n",
       "    </tr>\n",
       "    <tr>\n",
       "      <th>236</th>\n",
       "      <td>KJKKJ</td>\n",
       "      <td>322</td>\n",
       "      <td>7</td>\n",
       "      <td>13</td>\n",
       "      <td>1</td>\n",
       "      <td>13</td>\n",
       "      <td>13</td>\n",
       "      <td>1</td>\n",
       "      <td>998</td>\n",
       "    </tr>\n",
       "    <tr>\n",
       "      <th>151</th>\n",
       "      <td>QQJQQ</td>\n",
       "      <td>245</td>\n",
       "      <td>7</td>\n",
       "      <td>12</td>\n",
       "      <td>12</td>\n",
       "      <td>1</td>\n",
       "      <td>12</td>\n",
       "      <td>12</td>\n",
       "      <td>997</td>\n",
       "    </tr>\n",
       "    <tr>\n",
       "      <th>650</th>\n",
       "      <td>QJJQQ</td>\n",
       "      <td>165</td>\n",
       "      <td>7</td>\n",
       "      <td>12</td>\n",
       "      <td>1</td>\n",
       "      <td>1</td>\n",
       "      <td>12</td>\n",
       "      <td>12</td>\n",
       "      <td>996</td>\n",
       "    </tr>\n",
       "  </tbody>\n",
       "</table>\n",
       "</div>"
      ],
      "text/plain": [
       "     hands  bids  hand_rnk  c1_rnk  c2_rnk  c3_rnk  c4_rnk  c5_rnk  total_rnk\n",
       "546  AAAJA   158         7      14      14      14       1      14       1000\n",
       "715  KKJJJ   961         7      13      13       1       1       1        999\n",
       "236  KJKKJ   322         7      13       1      13      13       1        998\n",
       "151  QQJQQ   245         7      12      12       1      12      12        997\n",
       "650  QJJQQ   165         7      12       1       1      12      12        996"
      ]
     },
     "execution_count": 10,
     "metadata": {},
     "output_type": "execute_result"
    }
   ],
   "source": [
    "data['hand_rnk'] = data['hands'].apply(hand_rank)\n",
    "data = pd.concat([data, data['hands'].apply(card_ranks)], axis=1)\n",
    "data = data.sort_values(\n",
    "    by=['hand_rnk', 'c1_rnk', 'c2_rnk', 'c3_rnk', 'c4_rnk', 'c5_rnk'],\n",
    "    ascending=[False]*6)\n",
    "data['total_rnk'] = range(data.shape[0], 0, -1)\n",
    "data[0:5]"
   ]
  },
  {
   "cell_type": "code",
   "execution_count": 11,
   "metadata": {},
   "outputs": [
    {
     "data": {
      "text/plain": [
       "250384185"
      ]
     },
     "execution_count": 11,
     "metadata": {},
     "output_type": "execute_result"
    }
   ],
   "source": [
    "np.sum(data['bids'] * data['total_rnk'])"
   ]
  }
 ],
 "metadata": {
  "kernelspec": {
   "display_name": "base",
   "language": "python",
   "name": "python3"
  },
  "language_info": {
   "codemirror_mode": {
    "name": "ipython",
    "version": 3
   },
   "file_extension": ".py",
   "mimetype": "text/x-python",
   "name": "python",
   "nbconvert_exporter": "python",
   "pygments_lexer": "ipython3",
   "version": "3.11.7"
  },
  "orig_nbformat": 4,
  "vscode": {
   "interpreter": {
    "hash": "71aab76894ccd7da800143af8a6fdd606722031a39bb4bd53e17bf882d95cd66"
   }
  }
 },
 "nbformat": 4,
 "nbformat_minor": 2
}
