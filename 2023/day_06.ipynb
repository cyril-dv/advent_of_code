{
 "cells": [
  {
   "cell_type": "markdown",
   "metadata": {},
   "source": [
    "# Day 6 - Advent of Code 2023"
   ]
  },
  {
   "cell_type": "markdown",
   "metadata": {},
   "source": [
    "## Part 1"
   ]
  },
  {
   "cell_type": "code",
   "execution_count": 1,
   "metadata": {},
   "outputs": [],
   "source": [
    "import numpy as np\n",
    "import pandas as pd\n",
    "np.set_printoptions(suppress=True, precision=4)\n",
    "pd.options.display.float_format = '{:,.4f}'.format"
   ]
  },
  {
   "cell_type": "code",
   "execution_count": 2,
   "metadata": {},
   "outputs": [],
   "source": [
    "with open('day_06.txt') as f:\n",
    "    data = f.read()\n",
    "data = data.replace('  ', ' ').replace('  ', ' ').replace('  ', ' ')\n",
    "data_list = data.split('\\n')"
   ]
  },
  {
   "cell_type": "code",
   "execution_count": 3,
   "metadata": {},
   "outputs": [
    {
     "data": {
      "text/plain": [
       "array([[  57,   72,   69,   92],\n",
       "       [ 291, 1172, 1176, 2026]])"
      ]
     },
     "execution_count": 3,
     "metadata": {},
     "output_type": "execute_result"
    }
   ],
   "source": [
    "time = [int(i) for i in data_list[0].split()[1:]]\n",
    "dist = [int(i) for i in data_list[1].split()[1:]]\n",
    "\n",
    "arr = np.array([time, dist])\n",
    "arr"
   ]
  },
  {
   "cell_type": "code",
   "execution_count": 4,
   "metadata": {},
   "outputs": [
    {
     "data": {
      "text/plain": [
       "160816"
      ]
     },
     "execution_count": 4,
     "metadata": {},
     "output_type": "execute_result"
    }
   ],
   "source": [
    "wins = []\n",
    "\n",
    "for run in range(arr.shape[1]):\n",
    "    hold_time = np.arange(0, arr[0, run] + 1)\n",
    "    travel_time = arr[0, run] - hold_time\n",
    "    distance = hold_time * travel_time\n",
    "    combs = np.sum(distance > arr[1, run])\n",
    "    wins.append(combs)\n",
    "\n",
    "np.prod(wins)"
   ]
  },
  {
   "cell_type": "markdown",
   "metadata": {},
   "source": [
    "## Part 2"
   ]
  },
  {
   "cell_type": "code",
   "execution_count": 5,
   "metadata": {},
   "outputs": [],
   "source": [
    "with open('day_06.txt') as f:\n",
    "    data = f.read()\n",
    "data = data.replace('  ', ' ').replace('  ', ' ').replace('  ', ' ')\n",
    "data_list = data.split('\\n')"
   ]
  },
  {
   "cell_type": "code",
   "execution_count": 6,
   "metadata": {},
   "outputs": [
    {
     "name": "stdout",
     "output_type": "stream",
     "text": [
      "57726992\n",
      "291117211762026\n"
     ]
    }
   ],
   "source": [
    "time = int(data_list[0][6:].replace(' ', ''))\n",
    "dist = int(data_list[1][10:].replace(' ', ''))\n",
    "print(time, dist, sep='\\n')"
   ]
  },
  {
   "cell_type": "code",
   "execution_count": 7,
   "metadata": {},
   "outputs": [
    {
     "data": {
      "text/plain": [
       "46561107"
      ]
     },
     "execution_count": 7,
     "metadata": {},
     "output_type": "execute_result"
    }
   ],
   "source": [
    "hold_time = np.arange(0, time + 1, dtype=np.float64)\n",
    "travel_time = time - hold_time\n",
    "distance = hold_time * travel_time\n",
    "wins = np.sum(distance > dist)\n",
    "\n",
    "wins"
   ]
  }
 ],
 "metadata": {
  "kernelspec": {
   "display_name": "base",
   "language": "python",
   "name": "python3"
  },
  "language_info": {
   "codemirror_mode": {
    "name": "ipython",
    "version": 3
   },
   "file_extension": ".py",
   "mimetype": "text/x-python",
   "name": "python",
   "nbconvert_exporter": "python",
   "pygments_lexer": "ipython3",
   "version": "3.11.7"
  },
  "orig_nbformat": 4,
  "vscode": {
   "interpreter": {
    "hash": "71aab76894ccd7da800143af8a6fdd606722031a39bb4bd53e17bf882d95cd66"
   }
  }
 },
 "nbformat": 4,
 "nbformat_minor": 2
}
