{
 "cells": [
  {
   "cell_type": "markdown",
   "metadata": {},
   "source": [
    "# Day 4 - Advent of Code 2023"
   ]
  },
  {
   "cell_type": "markdown",
   "metadata": {},
   "source": [
    "## Part 1"
   ]
  },
  {
   "cell_type": "code",
   "execution_count": 1,
   "metadata": {},
   "outputs": [],
   "source": [
    "import numpy as np\n",
    "import pandas as pd\n",
    "np.set_printoptions(suppress=True, precision=4)\n",
    "pd.options.display.float_format = '{:,.4f}'.format\n",
    "\n",
    "import re"
   ]
  },
  {
   "cell_type": "code",
   "execution_count": 2,
   "metadata": {},
   "outputs": [],
   "source": [
    "with open('day_04.txt') as f:\n",
    "    data = f.read()\n",
    "    data_list = data.split('\\n')"
   ]
  },
  {
   "cell_type": "code",
   "execution_count": 3,
   "metadata": {},
   "outputs": [
    {
     "data": {
      "text/plain": [
       "[['91 73 74 57 24 99 31 70 60  8',\n",
       "  '89 70 43 24 62 30 91 87 60 57 90  2 27  3 31 25 39 83 64 73 99  8 74 37 49']]"
      ]
     },
     "execution_count": 3,
     "metadata": {},
     "output_type": "execute_result"
    }
   ],
   "source": [
    "data_list = [i[10:] for i in data_list]\n",
    "data_list = [i.split(' | ') for i in data_list]\n",
    "data_list[0:1]"
   ]
  },
  {
   "cell_type": "code",
   "execution_count": 4,
   "metadata": {},
   "outputs": [
    {
     "name": "stdout",
     "output_type": "stream",
     "text": [
      "[[91 73 74 57 24 99 31 70 60  8]]\n",
      "[[89 70 43 24 62 30 91 87 60 57 90  2 27  3 31 25 39 83 64 73 99  8 74 37\n",
      "  49]]\n"
     ]
    }
   ],
   "source": [
    "win_nums = []\n",
    "pld_nums = []\n",
    "\n",
    "for row in data_list:\n",
    "    win_nums.append([int(i) for i in re.findall(r'\\d+', row[0])])\n",
    "    pld_nums.append([int(i) for i in re.findall(r'\\d+', row[1])])\n",
    "\n",
    "win_arr = np.array(win_nums)\n",
    "pld_arr = np.array(pld_nums)\n",
    "\n",
    "print(win_arr[0:1, :], pld_arr[0:1, :], sep='\\n')"
   ]
  },
  {
   "cell_type": "code",
   "execution_count": 5,
   "metadata": {},
   "outputs": [],
   "source": [
    "scores = []\n",
    "\n",
    "for i in range(win_arr.shape[0]):\n",
    "    matches = np.intersect1d(win_arr[i, :], pld_arr[i, :], return_indices=True)[1].size\n",
    "    if matches == 0:\n",
    "        scores.append(0)\n",
    "    else:\n",
    "        scores.append(1*2**(matches-1))"
   ]
  },
  {
   "cell_type": "code",
   "execution_count": 6,
   "metadata": {},
   "outputs": [
    {
     "data": {
      "text/plain": [
       "20855"
      ]
     },
     "execution_count": 6,
     "metadata": {},
     "output_type": "execute_result"
    }
   ],
   "source": [
    "np.sum(scores)"
   ]
  },
  {
   "cell_type": "markdown",
   "metadata": {},
   "source": [
    "## Part 2"
   ]
  },
  {
   "cell_type": "code",
   "execution_count": 7,
   "metadata": {},
   "outputs": [],
   "source": [
    "scores = []\n",
    "\n",
    "for i in range(win_arr.shape[0]):\n",
    "    matches = np.intersect1d(win_arr[i, :], pld_arr[i, :], return_indices=True)[1].size\n",
    "    scores.append(matches)\n",
    "\n",
    "scores = np.array(scores)\n",
    "cards = np.ones_like(scores)"
   ]
  },
  {
   "cell_type": "code",
   "execution_count": 8,
   "metadata": {},
   "outputs": [],
   "source": [
    "for i, card in enumerate(cards):\n",
    "    cards[i+1:i+1+scores[i]] = cards[i+1:i+1+scores[i]] + cards[i]"
   ]
  },
  {
   "cell_type": "code",
   "execution_count": 9,
   "metadata": {},
   "outputs": [
    {
     "data": {
      "text/plain": [
       "5489600"
      ]
     },
     "execution_count": 9,
     "metadata": {},
     "output_type": "execute_result"
    }
   ],
   "source": [
    "np.sum(cards)"
   ]
  }
 ],
 "metadata": {
  "kernelspec": {
   "display_name": "base",
   "language": "python",
   "name": "python3"
  },
  "language_info": {
   "codemirror_mode": {
    "name": "ipython",
    "version": 3
   },
   "file_extension": ".py",
   "mimetype": "text/x-python",
   "name": "python",
   "nbconvert_exporter": "python",
   "pygments_lexer": "ipython3",
   "version": "3.11.7"
  },
  "orig_nbformat": 4,
  "vscode": {
   "interpreter": {
    "hash": "71aab76894ccd7da800143af8a6fdd606722031a39bb4bd53e17bf882d95cd66"
   }
  }
 },
 "nbformat": 4,
 "nbformat_minor": 2
}
