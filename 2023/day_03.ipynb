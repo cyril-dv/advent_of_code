{
 "cells": [
  {
   "cell_type": "markdown",
   "metadata": {},
   "source": [
    "# Day 3 - Advent of Code 2023"
   ]
  },
  {
   "cell_type": "markdown",
   "metadata": {},
   "source": [
    "## Part 1"
   ]
  },
  {
   "cell_type": "code",
   "execution_count": 1,
   "metadata": {},
   "outputs": [],
   "source": [
    "import numpy as np\n",
    "import pandas as pd\n",
    "np.set_printoptions(suppress=True, precision=4)\n",
    "pd.options.display.float_format = '{:,.4f}'.format\n",
    "\n",
    "import re"
   ]
  },
  {
   "cell_type": "code",
   "execution_count": 2,
   "metadata": {},
   "outputs": [],
   "source": [
    "with open('day_03.txt') as f:\n",
    "    data = f.read()\n",
    "    data_list = data.split('\\n')"
   ]
  },
  {
   "cell_type": "code",
   "execution_count": 3,
   "metadata": {},
   "outputs": [],
   "source": [
    "txt_length = len(data_list)\n",
    "line_length = len(data_list[0])\n",
    "max_char_len = np.max([len(i) for i in re.findall(r'\\d+', data)])"
   ]
  },
  {
   "cell_type": "code",
   "execution_count": 4,
   "metadata": {},
   "outputs": [
    {
     "data": {
      "text/plain": [
       "{'#', '$', '%', '&', '*', '+', '-', '/', '=', '@'}"
      ]
     },
     "execution_count": 4,
     "metadata": {},
     "output_type": "execute_result"
    }
   ],
   "source": [
    "chars = set(re.sub(r'\\d+|\\n|\\.', '', data))\n",
    "chars"
   ]
  },
  {
   "cell_type": "code",
   "execution_count": 5,
   "metadata": {},
   "outputs": [],
   "source": [
    "nums = []\n",
    "\n",
    "for line_num, line in enumerate(data_list):\n",
    "    line_start = 0 if line_num == 0 else line_num - 1\n",
    "    line_end = txt_length - 1 if line_num == (txt_length - 1) else line_num + 1\n",
    "    r = re.finditer(r'\\d+', line)\n",
    "\n",
    "    for num in r:\n",
    "        idx_start = 0 if num.start() == 0 else num.start() - 1\n",
    "        idx_end = line_length if num.end() + len(num[0]) + 1 > line_length else num.end() + 1\n",
    "        txt_square = (\n",
    "            data_list[line_start][idx_start:idx_end] + \n",
    "            data_list[line_num][idx_start:idx_end] + \n",
    "            data_list[line_end][idx_start:idx_end]\n",
    "        )\n",
    "\n",
    "        char_count = 0\n",
    "        for char in chars:\n",
    "            if char in txt_square:\n",
    "                char_count += 1\n",
    "            if char_count == 1:\n",
    "                nums.append(int(num[0]))\n",
    "                break\n"
   ]
  },
  {
   "cell_type": "code",
   "execution_count": 6,
   "metadata": {},
   "outputs": [
    {
     "data": {
      "text/plain": [
       "528799"
      ]
     },
     "execution_count": 6,
     "metadata": {},
     "output_type": "execute_result"
    }
   ],
   "source": [
    "np.sum(nums)"
   ]
  },
  {
   "cell_type": "markdown",
   "metadata": {},
   "source": [
    "## Part 2"
   ]
  },
  {
   "cell_type": "code",
   "execution_count": 7,
   "metadata": {},
   "outputs": [],
   "source": [
    "nums = []\n",
    "\n",
    "# No \"*\" on first and last lines\n",
    "for line_num, line in enumerate(data_list[1: -1], start=1):\n",
    "    line_start = line_num - 1\n",
    "    line_end = line_num + 1\n",
    "    r = re.finditer(r'\\*', line)\n",
    "\n",
    "    for char in r:\n",
    "        idx_start = 0 if char.start() == 0 else char.start() - max_char_len\n",
    "        idx_end = line_length if char.end() + max_char_len > line_length else char.end() + max_char_len\n",
    "        \n",
    "        txt_square = [\n",
    "                data_list[line_start][idx_start:idx_end],\n",
    "                data_list[line_num][idx_start:idx_end],\n",
    "                data_list[line_end][idx_start:idx_end]\n",
    "        ]\n",
    "\n",
    "        digits = []\n",
    "        for row in txt_square:\n",
    "            r2 = re.finditer(r'\\d+', row)\n",
    "            for num in r2:\n",
    "                if (0.5*(num.start() + num.end() - 1) == max_char_len or \n",
    "                    num.end() - 1 == max_char_len or\n",
    "                    num.end() - 1 == max_char_len - 1 or\n",
    "                    num.start() == max_char_len or\n",
    "                    num.start() == max_char_len + 1):\n",
    "                        digits.append(int(num[0]))\n",
    "        if len(digits) == 2:\n",
    "            nums.append(digits)"
   ]
  },
  {
   "cell_type": "code",
   "execution_count": 8,
   "metadata": {},
   "outputs": [
    {
     "data": {
      "text/plain": [
       "84907174"
      ]
     },
     "execution_count": 8,
     "metadata": {},
     "output_type": "execute_result"
    }
   ],
   "source": [
    "res = np.array(nums)\n",
    "np.sum(res[:, 0] * res[:, 1])"
   ]
  }
 ],
 "metadata": {
  "kernelspec": {
   "display_name": "base",
   "language": "python",
   "name": "python3"
  },
  "language_info": {
   "codemirror_mode": {
    "name": "ipython",
    "version": 3
   },
   "file_extension": ".py",
   "mimetype": "text/x-python",
   "name": "python",
   "nbconvert_exporter": "python",
   "pygments_lexer": "ipython3",
   "version": "3.11.7"
  },
  "orig_nbformat": 4,
  "vscode": {
   "interpreter": {
    "hash": "71aab76894ccd7da800143af8a6fdd606722031a39bb4bd53e17bf882d95cd66"
   }
  }
 },
 "nbformat": 4,
 "nbformat_minor": 2
}
