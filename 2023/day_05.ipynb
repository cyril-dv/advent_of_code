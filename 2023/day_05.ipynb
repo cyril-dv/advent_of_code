{
 "cells": [
  {
   "cell_type": "markdown",
   "metadata": {},
   "source": [
    "# Day 5 - Advent of Code 2023"
   ]
  },
  {
   "cell_type": "markdown",
   "metadata": {},
   "source": [
    "## Part 1"
   ]
  },
  {
   "cell_type": "code",
   "execution_count": 1,
   "metadata": {},
   "outputs": [],
   "source": [
    "import numpy as np\n",
    "import pandas as pd\n",
    "np.set_printoptions(suppress=True, precision=4)\n",
    "pd.options.display.float_format = '{:,.4f}'.format"
   ]
  },
  {
   "cell_type": "code",
   "execution_count": 2,
   "metadata": {},
   "outputs": [],
   "source": [
    "with open('day_05.txt') as f:\n",
    "    data = f.read()\n",
    "    data_list = data.split('\\n\\n')"
   ]
  },
  {
   "cell_type": "code",
   "execution_count": 3,
   "metadata": {},
   "outputs": [
    {
     "data": {
      "text/plain": [
       "[2494933545, 159314859, 4045092792, 172620202, 928898138]"
      ]
     },
     "execution_count": 3,
     "metadata": {},
     "output_type": "execute_result"
    }
   ],
   "source": [
    "seeds = [int(i) for i in data_list[0].split()[1:]]\n",
    "seeds[0:5]"
   ]
  },
  {
   "cell_type": "code",
   "execution_count": 4,
   "metadata": {},
   "outputs": [
    {
     "data": {
      "text/plain": [
       "['3272284283 2724782980 1022683013',\n",
       " '138187491 4195038636 99928660',\n",
       " '2359623759 797621236 127984779',\n",
       " '662451929 2224466386 266466256',\n",
       " '928918185 714355413 83265823']"
      ]
     },
     "execution_count": 4,
     "metadata": {},
     "output_type": "execute_result"
    }
   ],
   "source": [
    "maps = [lst.split('\\n')[1:] for lst in data_list[1:]]\n",
    "maps[0][0:5]"
   ]
  },
  {
   "cell_type": "code",
   "execution_count": 5,
   "metadata": {},
   "outputs": [
    {
     "data": {
      "text/plain": [
       "[['3272284283', '2724782980', '1022683013'],\n",
       " ['138187491', '4195038636', '99928660'],\n",
       " ['2359623759', '797621236', '127984779'],\n",
       " ['662451929', '2224466386', '266466256'],\n",
       " ['928918185', '714355413', '83265823']]"
      ]
     },
     "execution_count": 5,
     "metadata": {},
     "output_type": "execute_result"
    }
   ],
   "source": [
    "maps = [[l.split() for l in m] for m in maps]\n",
    "maps[0][0:5]"
   ]
  },
  {
   "cell_type": "code",
   "execution_count": 6,
   "metadata": {},
   "outputs": [
    {
     "data": {
      "text/plain": [
       "[[3272284283, 2724782980, 1022683013],\n",
       " [138187491, 4195038636, 99928660],\n",
       " [2359623759, 797621236, 127984779],\n",
       " [662451929, 2224466386, 266466256],\n",
       " [928918185, 714355413, 83265823]]"
      ]
     },
     "execution_count": 6,
     "metadata": {},
     "output_type": "execute_result"
    }
   ],
   "source": [
    "maps = [[[int(lv3) for lv3 in lv2] for lv2 in lv1] for lv1 in maps]\n",
    "maps[0][0:5]"
   ]
  },
  {
   "cell_type": "code",
   "execution_count": 7,
   "metadata": {},
   "outputs": [],
   "source": [
    "locations = []\n",
    "for curr in seeds:\n",
    "    for _map in maps:\n",
    "        for dest, src, rng in _map:\n",
    "            if src <= curr < src + rng:\n",
    "                idx = curr - src\n",
    "                curr = dest + idx\n",
    "                break\n",
    "    locations.append(curr)"
   ]
  },
  {
   "cell_type": "code",
   "execution_count": 8,
   "metadata": {},
   "outputs": [
    {
     "data": {
      "text/plain": [
       "165788812"
      ]
     },
     "execution_count": 8,
     "metadata": {},
     "output_type": "execute_result"
    }
   ],
   "source": [
    "np.min(locations)"
   ]
  }
 ],
 "metadata": {
  "kernelspec": {
   "display_name": "base",
   "language": "python",
   "name": "python3"
  },
  "language_info": {
   "codemirror_mode": {
    "name": "ipython",
    "version": 3
   },
   "file_extension": ".py",
   "mimetype": "text/x-python",
   "name": "python",
   "nbconvert_exporter": "python",
   "pygments_lexer": "ipython3",
   "version": "3.11.7"
  },
  "orig_nbformat": 4,
  "vscode": {
   "interpreter": {
    "hash": "71aab76894ccd7da800143af8a6fdd606722031a39bb4bd53e17bf882d95cd66"
   }
  }
 },
 "nbformat": 4,
 "nbformat_minor": 2
}
