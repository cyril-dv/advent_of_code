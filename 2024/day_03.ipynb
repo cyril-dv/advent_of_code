{
 "cells": [
  {
   "cell_type": "markdown",
   "metadata": {},
   "source": [
    "# Day 3 - Advent of Code 2024"
   ]
  },
  {
   "cell_type": "markdown",
   "metadata": {},
   "source": [
    "## Part 1"
   ]
  },
  {
   "cell_type": "code",
   "execution_count": 1,
   "metadata": {},
   "outputs": [],
   "source": [
    "import numpy as np\n",
    "import pandas as pd\n",
    "np.set_printoptions(suppress=True, precision=4)\n",
    "pd.options.display.float_format = '{:,.4f}'.format\n",
    "\n",
    "import re"
   ]
  },
  {
   "cell_type": "code",
   "execution_count": 2,
   "metadata": {},
   "outputs": [],
   "source": [
    "with open('day_03.txt') as f:\n",
    "    data = f.read()"
   ]
  },
  {
   "cell_type": "code",
   "execution_count": 3,
   "metadata": {},
   "outputs": [
    {
     "data": {
      "text/plain": [
       "'mul(168,87)}*:mul(911,800)(%,)where()#&&$mul(734,19)?when()why(){$:?mul(829,495)d'"
      ]
     },
     "execution_count": 3,
     "metadata": {},
     "output_type": "execute_result"
    }
   ],
   "source": [
    "data[0:81]"
   ]
  },
  {
   "cell_type": "code",
   "execution_count": 4,
   "metadata": {},
   "outputs": [
    {
     "data": {
      "text/plain": [
       "166630675"
      ]
     },
     "execution_count": 4,
     "metadata": {},
     "output_type": "execute_result"
    }
   ],
   "source": [
    "data_list = re.findall(r'mul\\([0-9]{1,3},[0-9]{1,3}\\)', data)\n",
    "arr = np.array([i[4:-1].replace(',', ' ').split() for i in data_list], dtype=np.int64)\n",
    "\n",
    "np.sum(np.prod(arr, 1))"
   ]
  },
  {
   "cell_type": "markdown",
   "metadata": {},
   "source": [
    "## Part 2"
   ]
  },
  {
   "cell_type": "code",
   "execution_count": 5,
   "metadata": {},
   "outputs": [
    {
     "data": {
      "text/plain": [
       "array([  14616,  728800,   13946,  410355, 1000000], dtype=int64)"
      ]
     },
     "execution_count": 5,
     "metadata": {},
     "output_type": "execute_result"
    }
   ],
   "source": [
    "data_list = re.findall(r'mul\\([0-9]{1,3},[0-9]{1,3}\\)|do\\(\\)|don\\'t\\(\\)', data)\n",
    "instructions  = [\n",
    "        i[4:-1].replace(',', ' ') if i[0:3] == 'mul' \n",
    "        else '1000 1000' if i[0:3] == 'do(' \n",
    "        else '-1000 1000'\n",
    "        for i in data_list\n",
    "    ]\n",
    "instructions = np.array([i.split() for i in instructions], dtype=np.int64)\n",
    "instructions = np.prod(instructions, 1)\n",
    "instructions[0:5]"
   ]
  },
  {
   "cell_type": "code",
   "execution_count": 6,
   "metadata": {},
   "outputs": [
    {
     "data": {
      "text/plain": [
       "93465710"
      ]
     },
     "execution_count": 6,
     "metadata": {},
     "output_type": "execute_result"
    }
   ],
   "source": [
    "sums = []\n",
    "ind = True\n",
    "\n",
    "with np.nditer(instructions, flags=['c_index'], op_flags=['readonly']) as it:\n",
    "    for num in it:\n",
    "        if num == 1_000_000:\n",
    "            ind = True\n",
    "        elif num == -1_000_000:\n",
    "            ind = False\n",
    "        if ind and num < 1_000_000:\n",
    "            sums.append(num)\n",
    "\n",
    "np.sum(sums)"
   ]
  }
 ],
 "metadata": {
  "kernelspec": {
   "display_name": "base",
   "language": "python",
   "name": "python3"
  },
  "language_info": {
   "codemirror_mode": {
    "name": "ipython",
    "version": 3
   },
   "file_extension": ".py",
   "mimetype": "text/x-python",
   "name": "python",
   "nbconvert_exporter": "python",
   "pygments_lexer": "ipython3",
   "version": "3.11.0"
  },
  "orig_nbformat": 4,
  "vscode": {
   "interpreter": {
    "hash": "71aab76894ccd7da800143af8a6fdd606722031a39bb4bd53e17bf882d95cd66"
   }
  }
 },
 "nbformat": 4,
 "nbformat_minor": 2
}
