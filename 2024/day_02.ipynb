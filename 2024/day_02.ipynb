{
 "cells": [
  {
   "cell_type": "markdown",
   "metadata": {},
   "source": [
    "# Day 2 - Advent of Code 2024"
   ]
  },
  {
   "cell_type": "markdown",
   "metadata": {},
   "source": [
    "## Part 1"
   ]
  },
  {
   "cell_type": "code",
   "execution_count": 1,
   "metadata": {},
   "outputs": [],
   "source": [
    "import numpy as np\n",
    "import pandas as pd\n",
    "np.set_printoptions(suppress=True, precision=4)\n",
    "pd.options.display.float_format = '{:,.4f}'.format"
   ]
  },
  {
   "cell_type": "code",
   "execution_count": 2,
   "metadata": {},
   "outputs": [],
   "source": [
    "with open('day_02.txt') as f:\n",
    "    data = f.read()"
   ]
  },
  {
   "cell_type": "code",
   "execution_count": 3,
   "metadata": {},
   "outputs": [
    {
     "data": {
      "text/plain": [
       "[[87, 90, 92, 95, 96, 93],\n",
       " [12, 15, 16, 17, 17],\n",
       " [26, 27, 29, 31, 34, 36, 40],\n",
       " [79, 80, 82, 85, 87, 88, 95],\n",
       " [17, 20, 22, 20, 23, 24]]"
      ]
     },
     "execution_count": 3,
     "metadata": {},
     "output_type": "execute_result"
    }
   ],
   "source": [
    "data_list = data.split('\\n')\n",
    "data_list = [i.split() for i in data_list]\n",
    "data_list = [[int(num) for num in row] for row in data_list]\n",
    "data_list[0:5]"
   ]
  },
  {
   "cell_type": "code",
   "execution_count": 4,
   "metadata": {},
   "outputs": [
    {
     "data": {
      "text/plain": [
       "483"
      ]
     },
     "execution_count": 4,
     "metadata": {},
     "output_type": "execute_result"
    }
   ],
   "source": [
    "valid_reports = [\n",
    "    rpt for rpt in data_list\n",
    "    if (np.all([np.diff(rpt) < 0]) and np.max(np.abs(np.diff(rpt))) <= 3)\n",
    "    or (np.all([np.diff(rpt) > 0]) and np.max(np.abs(np.diff(rpt))) <= 3)\n",
    "]\n",
    "\n",
    "len(valid_reports)"
   ]
  },
  {
   "cell_type": "markdown",
   "metadata": {},
   "source": [
    "## Part 2"
   ]
  },
  {
   "cell_type": "code",
   "execution_count": 5,
   "metadata": {},
   "outputs": [
    {
     "data": {
      "text/plain": [
       "528"
      ]
     },
     "execution_count": 5,
     "metadata": {},
     "output_type": "execute_result"
    }
   ],
   "source": [
    "valid_reports = []\n",
    "\n",
    "for report in data_list:\n",
    "    if (np.all([np.diff(report) < 0]) and np.max(np.abs(np.diff(report))) <= 3 or\n",
    "        np.all([np.diff(report) > 0]) and np.max(np.abs(np.diff(report))) <= 3):\n",
    "        valid_reports.append(report)\n",
    "        continue\n",
    "\n",
    "    for i in range(len(report)):\n",
    "        sub_report = np.delete(report, i)\n",
    "        if (np.all([np.diff(sub_report) < 0]) and np.max(np.abs(np.diff(sub_report))) <= 3 or\n",
    "            np.all([np.diff(sub_report) > 0]) and np.max(np.abs(np.diff(sub_report))) <= 3):\n",
    "            valid_reports.append(sub_report)\n",
    "            break\n",
    "\n",
    "len(valid_reports)"
   ]
  }
 ],
 "metadata": {
  "kernelspec": {
   "display_name": "base",
   "language": "python",
   "name": "python3"
  },
  "language_info": {
   "codemirror_mode": {
    "name": "ipython",
    "version": 3
   },
   "file_extension": ".py",
   "mimetype": "text/x-python",
   "name": "python",
   "nbconvert_exporter": "python",
   "pygments_lexer": "ipython3",
   "version": "3.11.0"
  },
  "orig_nbformat": 4,
  "vscode": {
   "interpreter": {
    "hash": "71aab76894ccd7da800143af8a6fdd606722031a39bb4bd53e17bf882d95cd66"
   }
  }
 },
 "nbformat": 4,
 "nbformat_minor": 2
}
