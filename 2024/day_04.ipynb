{
 "cells": [
  {
   "cell_type": "markdown",
   "metadata": {},
   "source": [
    "# Day 4 - Advent of Code 2024"
   ]
  },
  {
   "cell_type": "markdown",
   "metadata": {},
   "source": [
    "## Part 1"
   ]
  },
  {
   "cell_type": "code",
   "execution_count": 1,
   "metadata": {},
   "outputs": [],
   "source": [
    "import numpy as np\n",
    "import pandas as pd\n",
    "np.set_printoptions(suppress=True, precision=4)\n",
    "pd.options.display.float_format = '{:,.4f}'.format"
   ]
  },
  {
   "cell_type": "code",
   "execution_count": 2,
   "metadata": {},
   "outputs": [],
   "source": [
    "with open('day_04.txt') as f:\n",
    "    data = f.read()"
   ]
  },
  {
   "cell_type": "code",
   "execution_count": 3,
   "metadata": {},
   "outputs": [
    {
     "data": {
      "text/plain": [
       "['99922559595219929229999992992229295125259111121219111252299999911521299125122122999295212191292999122952295212922219592221212211521125912129',\n",
       " '52559229595955225511551555515955195219159292529259292151952155529115215521952551955525252592255951955952155151525111515592259259129195252229']"
      ]
     },
     "execution_count": 3,
     "metadata": {},
     "output_type": "execute_result"
    }
   ],
   "source": [
    "data_list = (\n",
    "    data\n",
    "    .replace('X', '1')\n",
    "    .replace('M', '2')\n",
    "    .replace('A', '5')\n",
    "    .replace('S', '9')\n",
    "    .split()\n",
    ")\n",
    "data_list[0:2]"
   ]
  },
  {
   "cell_type": "code",
   "execution_count": 4,
   "metadata": {},
   "outputs": [
    {
     "data": {
      "text/plain": [
       "array([[9, 9, 9, 2, 2, 5, 5, 9, 5, 9, 5, 2, 1, 9, 9, 2, 9, 2, 2, 9],\n",
       "       [5, 2, 5, 5, 9, 2, 2, 9, 5, 9, 5, 9, 5, 5, 2, 2, 5, 5, 1, 1]],\n",
       "      dtype=int64)"
      ]
     },
     "execution_count": 4,
     "metadata": {},
     "output_type": "execute_result"
    }
   ],
   "source": [
    "arr = np.array([[i for i in row] for row in data_list], dtype=np.int64)\n",
    "arr[0:2, 0:20]"
   ]
  },
  {
   "cell_type": "code",
   "execution_count": 5,
   "metadata": {},
   "outputs": [],
   "source": [
    "words = 0\n",
    "xmas = np.array([1, 2, 5, 9])\n",
    "\n",
    "# columns\n",
    "for col in range(arr.shape[0]):\n",
    "    for i in range(arr[:, col].shape[0]):\n",
    "        try:\n",
    "            if np.all(arr[i-3:i+1, col] == xmas) or np.all(arr[i-3:i+1, col] == np.flip(xmas)):\n",
    "                words += 1\n",
    "        except:\n",
    "            continue\n",
    "\n",
    "# rows\n",
    "for row in range(arr.shape[0]):\n",
    "    for i in range(arr[row, :].shape[0]):\n",
    "        try:\n",
    "            if np.all(arr[row, i-3:i+1] == xmas) or np.all(arr[row, i-3:i+1] == np.flip(xmas)):\n",
    "                words += 1\n",
    "        except:\n",
    "            continue\n",
    "\n",
    "# diagonals\n",
    "for diag in range(-arr.shape[0] + 1, arr.shape[0]):\n",
    "    for i in range(np.diag(arr, diag).shape[0]):\n",
    "        try:\n",
    "            if np.all(np.diag(arr, diag)[i-3:i+1] == xmas) or np.all(np.diag(arr, diag)[i-3:i+1] == np.flip(xmas)):\n",
    "                words += 1\n",
    "        except:\n",
    "            continue\n",
    "\n",
    "# diagonals on flipped matrix\n",
    "for diag in range(-arr.shape[0] + 1, arr.shape[0]):\n",
    "    for i in range(np.diag(np.flip(arr, axis=1), diag).shape[0]):\n",
    "        try:\n",
    "            if np.all(np.diag(np.flip(arr, axis=1), diag)[i-3:i+1] == xmas) or np.all(np.diag(np.flip(arr, axis=1), diag)[i-3:i+1] == np.flip(xmas)):\n",
    "                words += 1\n",
    "        except:\n",
    "            continue"
   ]
  },
  {
   "cell_type": "code",
   "execution_count": 6,
   "metadata": {},
   "outputs": [
    {
     "data": {
      "text/plain": [
       "2718"
      ]
     },
     "execution_count": 6,
     "metadata": {},
     "output_type": "execute_result"
    }
   ],
   "source": [
    "words"
   ]
  }
 ],
 "metadata": {
  "kernelspec": {
   "display_name": "base",
   "language": "python",
   "name": "python3"
  },
  "language_info": {
   "codemirror_mode": {
    "name": "ipython",
    "version": 3
   },
   "file_extension": ".py",
   "mimetype": "text/x-python",
   "name": "python",
   "nbconvert_exporter": "python",
   "pygments_lexer": "ipython3",
   "version": "3.11.0"
  },
  "orig_nbformat": 4,
  "vscode": {
   "interpreter": {
    "hash": "71aab76894ccd7da800143af8a6fdd606722031a39bb4bd53e17bf882d95cd66"
   }
  }
 },
 "nbformat": 4,
 "nbformat_minor": 2
}
