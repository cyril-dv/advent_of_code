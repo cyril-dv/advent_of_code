{
 "cells": [
  {
   "cell_type": "markdown",
   "metadata": {},
   "source": [
    "# Day 6 - Advent of Code 2020"
   ]
  },
  {
   "cell_type": "markdown",
   "metadata": {},
   "source": [
    "## Part 1"
   ]
  },
  {
   "cell_type": "code",
   "execution_count": 1,
   "metadata": {},
   "outputs": [],
   "source": [
    "import numpy as np\n",
    "import pandas as pd\n",
    "np.set_printoptions(suppress=True, precision=4)\n",
    "pd.options.display.float_format = '{:,.4f}'.format"
   ]
  },
  {
   "cell_type": "code",
   "execution_count": 2,
   "metadata": {},
   "outputs": [
    {
     "data": {
      "text/plain": [
       "['l\\nl\\nvqb',\n",
       " 'zrbnqykcsxjm\\nrszkqdmjbnx\\nynkosrxjbzqm',\n",
       " 'jiare\\neria\\niaer\\narie\\naiexqr']"
      ]
     },
     "execution_count": 2,
     "metadata": {},
     "output_type": "execute_result"
    }
   ],
   "source": [
    "with open('day_06.txt') as f:\n",
    "    data = f.read()\n",
    "    data_list = data.split('\\n\\n')\n",
    "\n",
    "data_list[0:3]"
   ]
  },
  {
   "cell_type": "code",
   "execution_count": 3,
   "metadata": {},
   "outputs": [
    {
     "data": {
      "text/plain": [
       "[['l', 'l', 'vqb'],\n",
       " ['zrbnqykcsxjm', 'rszkqdmjbnx', 'ynkosrxjbzqm'],\n",
       " ['jiare', 'eria', 'iaer', 'arie', 'aiexqr']]"
      ]
     },
     "execution_count": 3,
     "metadata": {},
     "output_type": "execute_result"
    }
   ],
   "source": [
    "groups = [i.split('\\n') for i in data_list]\n",
    "groups[0:3]"
   ]
  },
  {
   "cell_type": "code",
   "execution_count": 4,
   "metadata": {},
   "outputs": [],
   "source": [
    "yes_list = []\n",
    "\n",
    "for g in groups:\n",
    "    a = set([c for p in g for c in p])\n",
    "    yes_list.append(len(a))"
   ]
  },
  {
   "cell_type": "code",
   "execution_count": 5,
   "metadata": {},
   "outputs": [
    {
     "data": {
      "text/plain": [
       "6885"
      ]
     },
     "execution_count": 5,
     "metadata": {},
     "output_type": "execute_result"
    }
   ],
   "source": [
    "np.sum(yes_list)"
   ]
  }
 ],
 "metadata": {
  "kernelspec": {
   "display_name": "base",
   "language": "python",
   "name": "python3"
  },
  "language_info": {
   "codemirror_mode": {
    "name": "ipython",
    "version": 3
   },
   "file_extension": ".py",
   "mimetype": "text/x-python",
   "name": "python",
   "nbconvert_exporter": "python",
   "pygments_lexer": "ipython3",
   "version": "3.11.7"
  },
  "orig_nbformat": 4,
  "vscode": {
   "interpreter": {
    "hash": "71aab76894ccd7da800143af8a6fdd606722031a39bb4bd53e17bf882d95cd66"
   }
  }
 },
 "nbformat": 4,
 "nbformat_minor": 2
}
