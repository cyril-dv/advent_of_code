{
 "cells": [
  {
   "cell_type": "markdown",
   "metadata": {},
   "source": [
    "# Day 4 - Advent of Code 2020"
   ]
  },
  {
   "cell_type": "markdown",
   "metadata": {},
   "source": [
    "## Part 1"
   ]
  },
  {
   "cell_type": "code",
   "execution_count": 1,
   "metadata": {},
   "outputs": [],
   "source": [
    "import numpy as np\n",
    "import pandas as pd\n",
    "np.set_printoptions(suppress=True, precision=4)\n",
    "pd.options.display.float_format = '{:,.4f}'.format\n",
    "\n",
    "import re"
   ]
  },
  {
   "cell_type": "code",
   "execution_count": 2,
   "metadata": {},
   "outputs": [
    {
     "data": {
      "text/plain": [
       "['eyr:2029 pid:157374862',\n",
       " 'byr:1991 ecl:amb hcl:#a97842 hgt:178cm',\n",
       " '',\n",
       " 'byr:1962 pid:547578491 eyr:2028 ecl:hzl hgt:65in iyr:2013 hcl:#623a2f',\n",
       " '',\n",
       " 'hgt:71in eyr:2037',\n",
       " 'ecl:#8e276e hcl:z iyr:2019',\n",
       " 'byr:2022 pid:157cm']"
      ]
     },
     "execution_count": 2,
     "metadata": {},
     "output_type": "execute_result"
    }
   ],
   "source": [
    "with open('day_04.txt') as f:\n",
    "    data = f.read()\n",
    "    data_list = data.split('\\n')\n",
    "\n",
    "data_list[0:8]"
   ]
  },
  {
   "cell_type": "code",
   "execution_count": 3,
   "metadata": {},
   "outputs": [
    {
     "data": {
      "text/plain": [
       "292"
      ]
     },
     "execution_count": 3,
     "metadata": {},
     "output_type": "execute_result"
    }
   ],
   "source": [
    "l = []\n",
    "for i in data_list:\n",
    "    if len(i) == 0:\n",
    "        l.append(1)\n",
    "len(l) + 1"
   ]
  },
  {
   "cell_type": "code",
   "execution_count": 4,
   "metadata": {},
   "outputs": [
    {
     "data": {
      "text/plain": [
       "['eyr:2029 pid:157374862 byr:1991 ecl:amb hcl:#a97842 hgt:178cm ',\n",
       " 'byr:1962 pid:547578491 eyr:2028 ecl:hzl hgt:65in iyr:2013 hcl:#623a2f ',\n",
       " 'hgt:71in eyr:2037 ecl:#8e276e hcl:z iyr:2019 byr:2022 pid:157cm ']"
      ]
     },
     "execution_count": 4,
     "metadata": {},
     "output_type": "execute_result"
    }
   ],
   "source": [
    "pass_list = ['']\n",
    "\n",
    "for i in data_list:\n",
    "    if len(i) > 1:\n",
    "        pass_list[-1] += i + ' '\n",
    "    else:\n",
    "        pass_list += ['']\n",
    "\n",
    "pass_list[0:3]"
   ]
  },
  {
   "cell_type": "code",
   "execution_count": 5,
   "metadata": {},
   "outputs": [
    {
     "data": {
      "text/html": [
       "<div>\n",
       "<style scoped>\n",
       "    .dataframe tbody tr th:only-of-type {\n",
       "        vertical-align: middle;\n",
       "    }\n",
       "\n",
       "    .dataframe tbody tr th {\n",
       "        vertical-align: top;\n",
       "    }\n",
       "\n",
       "    .dataframe thead th {\n",
       "        text-align: right;\n",
       "    }\n",
       "</style>\n",
       "<table border=\"1\" class=\"dataframe\">\n",
       "  <thead>\n",
       "    <tr style=\"text-align: right;\">\n",
       "      <th></th>\n",
       "      <th>pass_id</th>\n",
       "      <th>byr</th>\n",
       "      <th>iyr</th>\n",
       "      <th>eyr</th>\n",
       "      <th>hgt</th>\n",
       "      <th>hcl</th>\n",
       "      <th>ecl</th>\n",
       "      <th>pid</th>\n",
       "      <th>cid</th>\n",
       "    </tr>\n",
       "  </thead>\n",
       "  <tbody>\n",
       "    <tr>\n",
       "      <th>0</th>\n",
       "      <td>1</td>\n",
       "      <td>1991</td>\n",
       "      <td>&lt;NA&gt;</td>\n",
       "      <td>2029</td>\n",
       "      <td>178cm</td>\n",
       "      <td>#a97842</td>\n",
       "      <td>amb</td>\n",
       "      <td>157374862</td>\n",
       "      <td>&lt;NA&gt;</td>\n",
       "    </tr>\n",
       "    <tr>\n",
       "      <th>1</th>\n",
       "      <td>2</td>\n",
       "      <td>1962</td>\n",
       "      <td>2013</td>\n",
       "      <td>2028</td>\n",
       "      <td>65in</td>\n",
       "      <td>#623a2f</td>\n",
       "      <td>hzl</td>\n",
       "      <td>547578491</td>\n",
       "      <td>&lt;NA&gt;</td>\n",
       "    </tr>\n",
       "    <tr>\n",
       "      <th>2</th>\n",
       "      <td>3</td>\n",
       "      <td>2022</td>\n",
       "      <td>2019</td>\n",
       "      <td>2037</td>\n",
       "      <td>71in</td>\n",
       "      <td>z</td>\n",
       "      <td>#8e276e</td>\n",
       "      <td>157cm</td>\n",
       "      <td>&lt;NA&gt;</td>\n",
       "    </tr>\n",
       "    <tr>\n",
       "      <th>3</th>\n",
       "      <td>4</td>\n",
       "      <td>1980</td>\n",
       "      <td>2011</td>\n",
       "      <td>2028</td>\n",
       "      <td>175</td>\n",
       "      <td>#733820</td>\n",
       "      <td>hzl</td>\n",
       "      <td>87786389</td>\n",
       "      <td>&lt;NA&gt;</td>\n",
       "    </tr>\n",
       "    <tr>\n",
       "      <th>4</th>\n",
       "      <td>5</td>\n",
       "      <td>2030</td>\n",
       "      <td>1991</td>\n",
       "      <td>1958</td>\n",
       "      <td>163in</td>\n",
       "      <td>z</td>\n",
       "      <td>grn</td>\n",
       "      <td>8261494508</td>\n",
       "      <td>136</td>\n",
       "    </tr>\n",
       "  </tbody>\n",
       "</table>\n",
       "</div>"
      ],
      "text/plain": [
       "  pass_id   byr   iyr   eyr    hgt      hcl      ecl         pid   cid\n",
       "0       1  1991  <NA>  2029  178cm  #a97842      amb   157374862  <NA>\n",
       "1       2  1962  2013  2028   65in  #623a2f      hzl   547578491  <NA>\n",
       "2       3  2022  2019  2037   71in        z  #8e276e       157cm  <NA>\n",
       "3       4  1980  2011  2028    175  #733820      hzl    87786389  <NA>\n",
       "4       5  2030  1991  1958  163in        z      grn  8261494508   136"
      ]
     },
     "execution_count": 5,
     "metadata": {},
     "output_type": "execute_result"
    }
   ],
   "source": [
    "passports = []\n",
    "\n",
    "for i, p in enumerate(pass_list, start=1):\n",
    "    cred_dict = {\n",
    "        'pass_id': i,\n",
    "        'byr': np.NaN, \n",
    "        'iyr': np.NaN, \n",
    "        'eyr': np.NaN, \n",
    "        'hgt': np.NaN, \n",
    "        'hcl': np.NaN, \n",
    "        'ecl': np.NaN, \n",
    "        'pid': np.NaN, \n",
    "        'cid': np.NaN\n",
    "    }\n",
    "\n",
    "    for cred in cred_dict.keys():\n",
    "        if re.search(fr'(?<={cred}:)\\S+', p):\n",
    "            cred_dict[cred] = re.search(fr'(?<={cred}:)\\S+', p)[0]\n",
    "    \n",
    "    passports.append(cred_dict)\n",
    "\n",
    "df = pd.DataFrame(passports).astype('string')\n",
    "df[0:5]"
   ]
  },
  {
   "cell_type": "code",
   "execution_count": 6,
   "metadata": {},
   "outputs": [
    {
     "data": {
      "text/html": [
       "<div>\n",
       "<style scoped>\n",
       "    .dataframe tbody tr th:only-of-type {\n",
       "        vertical-align: middle;\n",
       "    }\n",
       "\n",
       "    .dataframe tbody tr th {\n",
       "        vertical-align: top;\n",
       "    }\n",
       "\n",
       "    .dataframe thead th {\n",
       "        text-align: right;\n",
       "    }\n",
       "</style>\n",
       "<table border=\"1\" class=\"dataframe\">\n",
       "  <thead>\n",
       "    <tr style=\"text-align: right;\">\n",
       "      <th></th>\n",
       "      <th>pass_id</th>\n",
       "      <th>byr</th>\n",
       "      <th>iyr</th>\n",
       "      <th>eyr</th>\n",
       "      <th>hgt</th>\n",
       "      <th>hcl</th>\n",
       "      <th>ecl</th>\n",
       "      <th>pid</th>\n",
       "      <th>cid</th>\n",
       "    </tr>\n",
       "  </thead>\n",
       "  <tbody>\n",
       "    <tr>\n",
       "      <th>nulls</th>\n",
       "      <td>0</td>\n",
       "      <td>7</td>\n",
       "      <td>11</td>\n",
       "      <td>6</td>\n",
       "      <td>7</td>\n",
       "      <td>7</td>\n",
       "      <td>6</td>\n",
       "      <td>7</td>\n",
       "      <td>158</td>\n",
       "    </tr>\n",
       "  </tbody>\n",
       "</table>\n",
       "</div>"
      ],
      "text/plain": [
       "       pass_id  byr  iyr  eyr  hgt  hcl  ecl  pid  cid\n",
       "nulls        0    7   11    6    7    7    6    7  158"
      ]
     },
     "execution_count": 6,
     "metadata": {},
     "output_type": "execute_result"
    }
   ],
   "source": [
    "pd.DataFrame(df.isna().sum(), columns=['nulls']).T"
   ]
  },
  {
   "cell_type": "code",
   "execution_count": 7,
   "metadata": {},
   "outputs": [
    {
     "data": {
      "text/plain": [
       "245"
      ]
     },
     "execution_count": 7,
     "metadata": {},
     "output_type": "execute_result"
    }
   ],
   "source": [
    "df[~df.loc[:, df.columns[1:-1]].isna().any(axis=1)].shape[0]"
   ]
  },
  {
   "cell_type": "markdown",
   "metadata": {},
   "source": [
    "## Part 2"
   ]
  },
  {
   "cell_type": "code",
   "execution_count": 8,
   "metadata": {},
   "outputs": [],
   "source": [
    "df_valid = df[~df.loc[:, df.columns[1:-1]].isna().any(axis=1)].copy()"
   ]
  },
  {
   "cell_type": "code",
   "execution_count": 9,
   "metadata": {},
   "outputs": [],
   "source": [
    "def pass_validity(row):\n",
    "    byr_rule = 0 if row['byr'].isdigit() and int(row['byr']) in range(1920, 2003) else 1\n",
    "    iyr_rule = 0 if row['iyr'].isdigit() and int(row['iyr']) in range(2010, 2021) else 1\n",
    "    eyr_rule = 0 if row['eyr'].isdigit() and int(row['eyr']) in range(2020, 2031) else 1\n",
    "    hgt_rule = 0 if row['hgt'][-2:] in ['cm', 'in'] and row['hgt'][0:-2].isdigit() and (((row['hgt'][-2:] == 'cm') and (int(row['hgt'][0:-2]) in range(150, 194))) or ((row['hgt'][-2:] == 'in') and (int(row['hgt'][0:-2]) in range(59, 77)))) else 1\n",
    "    hcl_rule = 0 if re.search(r'#[0-9a-f]{6}', row['hcl']) else 1\n",
    "    ecl_rule = 0 if row['ecl'] in ['amb', 'blu', 'brn', 'gry', 'grn', 'hzl', 'oth'] else 1\n",
    "    pid_rule = 0 if row['pid'].isdigit() and len(row['pid']) == 9 else 1\n",
    "    \n",
    "    return 0 if np.sum([byr_rule, iyr_rule, eyr_rule, hgt_rule, hcl_rule, ecl_rule, pid_rule]) > 0 else 1"
   ]
  },
  {
   "cell_type": "code",
   "execution_count": 10,
   "metadata": {},
   "outputs": [
    {
     "data": {
      "text/plain": [
       "133"
      ]
     },
     "execution_count": 10,
     "metadata": {},
     "output_type": "execute_result"
    }
   ],
   "source": [
    "df_valid['valid'] = df_valid.apply(pass_validity, axis=1)\n",
    "df_valid[df_valid['valid'] == 1].shape[0]"
   ]
  }
 ],
 "metadata": {
  "kernelspec": {
   "display_name": "base",
   "language": "python",
   "name": "python3"
  },
  "language_info": {
   "codemirror_mode": {
    "name": "ipython",
    "version": 3
   },
   "file_extension": ".py",
   "mimetype": "text/x-python",
   "name": "python",
   "nbconvert_exporter": "python",
   "pygments_lexer": "ipython3",
   "version": "3.11.7"
  },
  "orig_nbformat": 4,
  "vscode": {
   "interpreter": {
    "hash": "71aab76894ccd7da800143af8a6fdd606722031a39bb4bd53e17bf882d95cd66"
   }
  }
 },
 "nbformat": 4,
 "nbformat_minor": 2
}
